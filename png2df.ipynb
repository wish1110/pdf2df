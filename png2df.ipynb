{
  "nbformat": 4,
  "nbformat_minor": 0,
  "metadata": {
    "colab": {
      "provenance": []
    },
    "kernelspec": {
      "name": "python3",
      "display_name": "Python 3"
    },
    "language_info": {
      "name": "python"
    }
  },
  "cells": [
    {
      "cell_type": "code",
      "source": [
        "!apt-get install poppler"
      ],
      "metadata": {
        "id": "6Hwf0-IRYSnX"
      },
      "execution_count": null,
      "outputs": []
    },
    {
      "cell_type": "code",
      "source": [
        "#need to install both the tesseract package for linux, along with the Python binding\n",
        "! apt install tesseract-ocr\n",
        "! apt install libtesseract-dev\n",
        "!pip install pytesseract\n",
        "!pip install pillow\n",
        "!pip install opencv-python\n",
        "!pip install pandas\n",
        "!pip install pdf2image\n",
        "!apt-get install poppler-utils"
      ],
      "metadata": {
        "id": "z84npLPFv1kh"
      },
      "execution_count": null,
      "outputs": []
    },
    {
      "cell_type": "code",
      "source": [
        "!pip install PyPDF2"
      ],
      "metadata": {
        "id": "eYskLRIA-gRl"
      },
      "execution_count": null,
      "outputs": []
    },
    {
      "cell_type": "code",
      "source": [
        "import cv2\n",
        "import pytesseract\n",
        "import pandas as pd\n",
        "from PIL import Image\n",
        "import numpy as np\n",
        "from google.colab.patches import cv2_imshow\n",
        "from PyPDF2 import PdfReader, PdfWriter\n",
        "from pdf2image import convert_from_path"
      ],
      "metadata": {
        "id": "yL5MB3G3UVIZ"
      },
      "execution_count": null,
      "outputs": []
    },
    {
      "cell_type": "code",
      "source": [
        "def crop_pdf(input_pdf, output_pdf, x1, y1, x2, y2):\n",
        "    with open(input_pdf, 'rb') as file:\n",
        "        reader = PdfReader(file)\n",
        "        writer = PdfWriter()\n",
        "\n",
        "        for page_num in range(len(reader.pages)):\n",
        "            page = reader.pages[page_num]\n",
        "            page.mediabox.lower_left = (x1, y1)\n",
        "            page.mediabox.upper_right = (x2, y2)\n",
        "            writer.add_page(page)\n",
        "\n",
        "        with open(output_pdf, 'wb') as output_file:\n",
        "            writer.write(output_file)\n",
        "\n",
        "    print(\"PDF cropped successfully.\")\n",
        "\n",
        "# Specify the input PDF file path\n",
        "input_pdf = '/content/crop_image.pdf'\n",
        "\n",
        "# Specify the output PDF file path\n",
        "output_pdf = '/content/cropped_image.pdf'\n",
        "\n",
        "# Specify the coordinates for cropping (in points)\n",
        "# Size for linerlytica page 6 SHFI table\n",
        "x1 = 40\n",
        "y1 = 510\n",
        "x2 = 570\n",
        "y2 = 683\n",
        "\n",
        "# Crop the PDF\n",
        "crop_pdf(input_pdf, output_pdf, x1, y1, x2, y2)"
      ],
      "metadata": {
        "colab": {
          "base_uri": "https://localhost:8080/"
        },
        "id": "sIru9de-BhOQ",
        "outputId": "5130d80f-ec21-484c-cbd2-13551d1c7d7b"
      },
      "execution_count": null,
      "outputs": [
        {
          "output_type": "stream",
          "name": "stdout",
          "text": [
            "PDF cropped successfully.\n"
          ]
        }
      ]
    },
    {
      "cell_type": "code",
      "source": [
        "def convert_pdf_to_png(input_path, output_path):\n",
        "    pages = convert_from_path(input_path)\n",
        "\n",
        "    for i, page in enumerate(pages):\n",
        "        page.save(f\"{output_path}.png\", \"PNG\")\n",
        "\n",
        "    print(\"PDF converted to PNG images successfully.\")\n",
        "\n",
        "# Specify the input PDF file path\n",
        "input_path = '/content/cropped_image.pdf'\n",
        "\n",
        "# Specify the output directory path where PNG images will be saved\n",
        "output_path = '/content/cropped_image'\n",
        "\n",
        "# Convert PDF to PNG images\n",
        "convert_pdf_to_png(input_path, output_path)"
      ],
      "metadata": {
        "colab": {
          "base_uri": "https://localhost:8080/"
        },
        "id": "1Y3CGjgDDC64",
        "outputId": "f0efa169-6fc2-4201-824d-566387121119"
      },
      "execution_count": null,
      "outputs": [
        {
          "output_type": "stream",
          "name": "stdout",
          "text": [
            "PDF converted to PNG images successfully.\n"
          ]
        }
      ]
    },
    {
      "cell_type": "code",
      "source": [
        "# Load the screenshot image\n",
        "image_path = f\"{output_path}.png\"\n",
        "image = Image.open(image_path)"
      ],
      "metadata": {
        "id": "sHjkXZlX_jTf"
      },
      "execution_count": null,
      "outputs": []
    },
    {
      "cell_type": "code",
      "source": [
        "# Convert the image to a NumPy array\n",
        "image_np = np.array(image)"
      ],
      "metadata": {
        "id": "vQL_g1DrU9_s"
      },
      "execution_count": null,
      "outputs": []
    },
    {
      "cell_type": "code",
      "source": [
        "# Preprocess the image to enhance the text extraction using OpenCV\n",
        "image_gray = cv2.cvtColor(image_np, cv2.COLOR_RGB2GRAY)\n",
        "image_thresh = cv2.threshold(image_gray, 0, 255, cv2.THRESH_BINARY + cv2.THRESH_OTSU)[1]"
      ],
      "metadata": {
        "id": "QIOemgk2VQHy"
      },
      "execution_count": null,
      "outputs": []
    },
    {
      "cell_type": "code",
      "source": [
        "## Use OCR to extract the text from the preprocessed image\n",
        "extracted_text = pytesseract.image_to_string(image)"
      ],
      "metadata": {
        "id": "1V-uMBPiVSdA"
      },
      "execution_count": null,
      "outputs": []
    },
    {
      "cell_type": "code",
      "source": [
        "## Process the extracted text to convert it into a structured table format\n",
        "table_data = [row.strip().split() for row in extracted_text.split('\\n') if row.strip()]\n",
        "df = pd.DataFrame(table_data)"
      ],
      "metadata": {
        "id": "gdAtb2XkVU5i"
      },
      "execution_count": null,
      "outputs": []
    },
    {
      "cell_type": "code",
      "source": [
        "# Calculate the number of columns based on the desired arrangement\n",
        "num_rows = 13\n",
        "num_columns = len(table_data) // num_rows"
      ],
      "metadata": {
        "id": "knjPJ_G-wZn4"
      },
      "execution_count": null,
      "outputs": []
    },
    {
      "cell_type": "code",
      "source": [
        "# Create a dictionary to store the table data for each column\n",
        "table_columns = {}\n",
        "for i in range(num_columns):\n",
        "    column_data = table_data[i*num_rows : (i+1)*num_rows]\n",
        "    table_columns[f'Column {i+1}'] = column_data"
      ],
      "metadata": {
        "id": "_AZ4BsXv093o"
      },
      "execution_count": null,
      "outputs": []
    },
    {
      "cell_type": "code",
      "source": [
        "# Create a DataFrame from the table columns\n",
        "df = pd.DataFrame(table_columns)\n",
        "\n",
        "# Access the extracted table data stored in the DataFrame df for further analysis or export\n",
        "df"
      ],
      "metadata": {
        "id": "sI1_TJ5q1FeH"
      },
      "execution_count": null,
      "outputs": []
    }
  ]
}